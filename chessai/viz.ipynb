{
 "cells": [
  {
   "cell_type": "code",
   "execution_count": 1,
   "metadata": {},
   "outputs": [
    {
     "data": {
      "application/vnd.jupyter.widget-view+json": {
       "model_id": "5d2ac78754004d2bb41fe6b1dfb866b7",
       "version_major": 2,
       "version_minor": 0
      },
      "text/plain": [
       "HBox(children=(VBox(children=(VBox(children=(IntSlider(value=0, description='move_num', max=104), Output())), …"
      ]
     },
     "metadata": {},
     "output_type": "display_data"
    }
   ],
   "source": [
    "# import module\n",
    "import ipywidgets as widgets\n",
    "from IPython.display import SVG, display\n",
    "import chess\n",
    "import chess.svg\n",
    "import chess.pgn\n",
    "from engine import MyEngine\n",
    "\n",
    "with open(\"./data/pgn/comp-2019-03.pgn\") as file:\n",
    "    game = chess.pgn.read_game(file)\n",
    "\n",
    "board_list = list(game.mainline())\n",
    "move_num = widgets.IntSlider(description='move_num', max=len(board_list)-1)\n",
    "text = widgets.Text()\n",
    "\n",
    "myengine = MyEngine()\n",
    "\n",
    "\n",
    "def display_board(move_num):\n",
    "    board = board_list[move_num]\n",
    "    display(SVG(chess.svg.board(board.board(), size = 400, lastmove=board.move)), clear=False)\n",
    "\n",
    "\n",
    "def engine_score(move_num):\n",
    "    board = board_list[move_num]\n",
    "    score = myengine.evaluate(board_list[move_num].board(), 2)\n",
    "    if board.turn() == chess.WHITE:\n",
    "        score *= -1\n",
    "    \n",
    "    print(score)\n",
    "    \n",
    "board_svg = widgets.interactive_output(display_board, {'move_num': move_num})\n",
    "score = widgets.interactive_output(engine_score, {'move_num': move_num})\n",
    "\n",
    "widgets.HBox([widgets.VBox([widgets.VBox([move_num, score]), board_svg]), text])"
   ]
  }
 ],
 "metadata": {
  "kernelspec": {
   "display_name": "Python 3.9.12 ('chessai-9CBJxCkL-py3.9')",
   "language": "python",
   "name": "python3"
  },
  "language_info": {
   "codemirror_mode": {
    "name": "ipython",
    "version": 3
   },
   "file_extension": ".py",
   "mimetype": "text/x-python",
   "name": "python",
   "nbconvert_exporter": "python",
   "pygments_lexer": "ipython3",
   "version": "3.9.12"
  },
  "orig_nbformat": 4,
  "vscode": {
   "interpreter": {
    "hash": "8b4b484dc4462168a6fe1fe48525d5c69827656b86655a4bf6049a86e80fa9a6"
   }
  }
 },
 "nbformat": 4,
 "nbformat_minor": 2
}
