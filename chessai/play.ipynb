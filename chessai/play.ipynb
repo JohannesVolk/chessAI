{
 "cells": [
  {
   "cell_type": "code",
   "execution_count": null,
   "metadata": {},
   "outputs": [],
   "source": [
    "import chess\n",
    "import chess.engine\n",
    "import chess.svg\n",
    "from IPython.display import SVG, display\n",
    "import time\n",
    "from engine import MyEngine\n",
    "\n",
    "import data.download\n",
    "\n",
    "%load_ext autoreload\n",
    "%autoreload 2"
   ]
  },
  {
   "cell_type": "markdown",
   "metadata": {},
   "source": [
    "We will now download move tables to ensure optimal play during the opening and the endamge (up to 5 remaining pieces)\n",
    "\n",
    "Make sure you are OK with the data before downloading/using it as these files are downloaded from 3rd partys and I don't claim responsibility for the integrity of them"
   ]
  },
  {
   "cell_type": "code",
   "execution_count": 22,
   "metadata": {},
   "outputs": [
    {
     "data": {
      "image/png": "[encoded data removed]",
      "text/plain": [
       "<Figure size 432x288 with 1 Axes>"
      ]
     },
     "metadata": {
      "needs_background": "light"
     },
     "output_type": "display_data"
    }
   ],
   "source": [
    "import data.dataset\n",
    "import numpy as np\n",
    "import matplotlib.pyplot as plt\n",
    "\n",
    "tensor = data.dataset.encode_board(chess.Board())\n",
    "for i in range(12):\n",
    "    plt.imshow(tensor[i])\n",
    "    plt.axis('off')\n",
    "    plt.savefig(f\"./{i}.svg\")\n",
    "\n",
    "\n"
   ]
  },
  {
   "cell_type": "code",
   "execution_count": null,
   "metadata": {},
   "outputs": [],
   "source": [
    "data.download.download_syzygy_from_url()\n",
    "data.download.dowload_polyglot_from_url()\n",
    "data.download.download_stockfish_from_url()"
   ]
  },
  {
   "cell_type": "markdown",
   "metadata": {},
   "source": [
    "We will create 2 engines one for each player (one is our engine the other is the current version of the stock fish engine)"
   ]
  },
  {
   "cell_type": "code",
   "execution_count": null,
   "metadata": {},
   "outputs": [],
   "source": [
    "engine = chess.engine.SimpleEngine.popen_uci(\"./data/stockfish/stockfish_15_linux_x64_ssse/stockfish_15_x64_ssse\")\n",
    "myengine = MyEngine()"
   ]
  },
  {
   "cell_type": "code",
   "execution_count": null,
   "metadata": {},
   "outputs": [],
   "source": [
    "board = chess.Board()\n",
    "\n",
    "while not board.is_game_over():\n",
    "    display(SVG(chess.svg.board(board, size = 400)), clear=False)\n",
    "    \n",
    "    print(engine.play(board, chess.engine.Limit(time=0.1)))\n",
    "\n",
    "    move = myengine.play(board, 2)\n",
    "\n",
    "    board.push(move)\n",
    "\n",
    "display(SVG(chess.svg.board(board, size = 400)), clear=False)\n",
    "\n",
    "engine.quit()"
   ]
  }
 ],
 "metadata": {
  "kernelspec": {
   "display_name": "Python 3.9.12 ('chessai-9CBJxCkL-py3.9')",
   "language": "python",
   "name": "python3"
  },
  "language_info": {
   "codemirror_mode": {
    "name": "ipython",
    "version": 3
   },
   "file_extension": ".py",
   "mimetype": "text/x-python",
   "name": "python",
   "nbconvert_exporter": "python",
   "pygments_lexer": "ipython3",
   "version": "3.9.12"
  },
  "orig_nbformat": 4,
  "vscode": {
   "interpreter": {
    "hash": "8b4b484dc4462168a6fe1fe48525d5c69827656b86655a4bf6049a86e80fa9a6"
   }
  }
 },
 "nbformat": 4,
 "nbformat_minor": 2
}
