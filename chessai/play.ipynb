{
 "cells": [
  {
   "cell_type": "code",
   "execution_count": null,
   "metadata": {},
   "outputs": [],
   "source": [
    "import chess\n",
    "import chess.engine\n",
    "import chess.svg\n",
    "import chess.pgn\n",
    "from IPython.display import SVG, display\n",
    "import time\n",
    "from engine import MyEngine\n",
    "\n",
    "import data.download\n",
    "\n",
    "%load_ext autoreload\n",
    "%autoreload 2"
   ]
  },
  {
   "cell_type": "markdown",
   "metadata": {},
   "source": [
    "We will now download move tables to ensure optimal play during the opening and the endamge (up to 5 remaining pieces)\n",
    "\n",
    "Make sure you are OK with the data before downloading/using it as these files are downloaded from 3rd partys and I don't claim responsibility for the integrity of them"
   ]
  },
  {
   "cell_type": "code",
   "execution_count": null,
   "metadata": {},
   "outputs": [],
   "source": [
    "data.download.download_syzygy_from_url()\n",
    "data.download.dowload_polyglot_from_url()\n",
    "data.download.download_stockfish_from_url()"
   ]
  },
  {
   "cell_type": "markdown",
   "metadata": {},
   "source": [
    "We will create 2 engines one for each player (one is our engine the other is the current version of the stock fish engine)"
   ]
  },
  {
   "cell_type": "code",
   "execution_count": 38,
   "metadata": {},
   "outputs": [],
   "source": [
    "engine = chess.engine.SimpleEngine.popen_uci(\"./data/stockfish/stockfish_15_linux_x64_ssse/stockfish_15_x64_ssse\")\n",
    "myengine = MyEngine()"
   ]
  },
  {
   "cell_type": "code",
   "execution_count": 35,
   "metadata": {},
   "outputs": [],
   "source": [
    "\n",
    "board = chess.Board()\n",
    "board_list = [board.copy()]\n",
    "move_list = [chess.Move().null()]\n",
    "\n",
    "while not board.is_game_over():\n",
    "    if board.turn == chess.WHITE:\n",
    "        move = myengine.play(board, 2)\n",
    "    else:\n",
    "        # move = engine.play(board, 2)\n",
    "        move = myengine.play(board, 2)\n",
    "\n",
    "    board.push(move)\n",
    "    move_list.append(move)\n",
    "    board_list.append(board.copy())\n",
    "\n",
    "engine.quit()"
   ]
  },
  {
   "cell_type": "code",
   "execution_count": 49,
   "metadata": {},
   "outputs": [
    {
     "data": {
      "application/vnd.jupyter.widget-view+json": {
       "model_id": "1eeb97bc039442269896750a05d21fdc",
       "version_major": 2,
       "version_minor": 0
      },
      "text/plain": [
       "VBox(children=(VBox(children=(IntSlider(value=0, description='move_num', max=92), Output())), Output()))"
      ]
     },
     "metadata": {},
     "output_type": "display_data"
    }
   ],
   "source": [
    "import ipywidgets as widgets\n",
    "import data.database\n",
    "\n",
    "move_num = widgets.IntSlider(description='move_num', max=len(board_list)-1)\n",
    "\n",
    "myengine = MyEngine()\n",
    "\n",
    "\n",
    "def display_board(move_num):\n",
    "    board = board_list[move_num]\n",
    "    move = move_list[move_num]\n",
    "    display(SVG(chess.svg.board(board, size = 400, lastmove=move)), clear=False)\n",
    "\n",
    "\n",
    "def engine_score(move_num):\n",
    "    board = board_list[move_num]\n",
    "    myscore = myengine.evaluate(board_list[move_num], 2)\n",
    "    score = engine.analyse(board_list[move_num], limit=chess.engine.Limit(time=2.0))[\"score\"].white().score(mate_score = 10000)\n",
    "    score = data.database.normalize(score)\n",
    "    \n",
    "    print(f\"stockfish: {score}\")\n",
    "    print(f\"my engine: {myscore}\")\n",
    "\n",
    "    \n",
    "board_svg = widgets.interactive_output(display_board, {'move_num': move_num})\n",
    "score = widgets.interactive_output(engine_score, {'move_num': move_num})\n",
    "\n",
    "widgets.VBox([widgets.VBox([move_num, score]), board_svg])"
   ]
  },
  {
   "cell_type": "markdown",
   "metadata": {},
   "source": []
  }
 ],
 "metadata": {
  "kernelspec": {
   "display_name": "Python 3.9.12 ('chessai-9CBJxCkL-py3.9')",
   "language": "python",
   "name": "python3"
  },
  "language_info": {
   "codemirror_mode": {
    "name": "ipython",
    "version": 3
   },
   "file_extension": ".py",
   "mimetype": "text/x-python",
   "name": "python",
   "nbconvert_exporter": "python",
   "pygments_lexer": "ipython3",
   "version": "3.9.12"
  },
  "orig_nbformat": 4,
  "vscode": {
   "interpreter": {
    "hash": "8b4b484dc4462168a6fe1fe48525d5c69827656b86655a4bf6049a86e80fa9a6"
   }
  }
 },
 "nbformat": 4,
 "nbformat_minor": 2
}
