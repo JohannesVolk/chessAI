{
 "cells": [
  {
   "cell_type": "code",
   "execution_count": 1,
   "metadata": {},
   "outputs": [],
   "source": [
    "\n",
    "import torch\n",
    "import torch.utils.data\n",
    "import pytorch_lightning as pl\n",
    "from torch.utils.data import DataLoader\n",
    "from pytorch_lightning.loggers import TensorBoardLogger\n",
    "\n",
    "import chess\n",
    "from network import ChessBoardEvalNN\n",
    "from data.dataset import ChessPositionsDataset\n",
    "from data.database import Database\n",
    "\n",
    "import data.database\n",
    "\n",
    "%load_ext autoreload\n",
    "# %load_ext line_profiler\n",
    "%autoreload 2"
   ]
  },
  {
   "cell_type": "code",
   "execution_count": null,
   "metadata": {},
   "outputs": [],
   "source": [
    "with Database() as db:\n",
    "    db.store_positions_from_pgn_file(\"./data/pgn/comp-2019-03.pgn\", max_games = 300_000)"
   ]
  },
  {
   "cell_type": "code",
   "execution_count": null,
   "metadata": {},
   "outputs": [],
   "source": [
    "\n",
    "\n",
    "with Database() as db:\n",
    "    count = db.cur.execute(\"SELECT COUNT(*) FROM games\").fetchone()[0]\n",
    "    print(f\"{count} games stored\")\n",
    "    count = db.cur.execute(\"SELECT COUNT(*) FROM positions\").fetchone()[0]\n",
    "    print(f\"{count} positions stored\")\n"
   ]
  },
  {
   "cell_type": "code",
   "execution_count": 2,
   "metadata": {},
   "outputs": [],
   "source": [
    "dataset = ChessPositionsDataset(num_positions = 8_414_441)\n",
    "# print(dataset[0])\n",
    "val_set, train_set = torch.utils.data.random_split(dataset, [414_441, 8_000_000], generator=torch.Generator().manual_seed(42))"
   ]
  },
  {
   "cell_type": "code",
   "execution_count": null,
   "metadata": {},
   "outputs": [],
   "source": [
    "import seaborn as sns\n",
    "import matplotlib.pyplot as plt\n",
    "\n",
    "ax = sns.displot(dataset.get_all_evaluations())"
   ]
  },
  {
   "cell_type": "code",
   "execution_count": 7,
   "metadata": {},
   "outputs": [
    {
     "name": "stderr",
     "output_type": "stream",
     "text": [
      "GPU available: True (cuda), used: True\n",
      "TPU available: False, using: 0 TPU cores\n",
      "IPU available: False, using: 0 IPUs\n",
      "HPU available: False, using: 0 HPUs\n",
      "LOCAL_RANK: 0 - CUDA_VISIBLE_DEVICES: [0]\n",
      "\n",
      "  | Name          | Type          | Params | In sizes      | Out sizes\n",
      "----------------------------------------------------------------------------\n",
      "0 | intake        | Sequential    | 0      | [1, 12, 8, 8] | [1, 768] \n",
      "1 | residual_1    | ResidualBlock | 1.2 M  | [1, 768]      | [1, 768] \n",
      "2 | residual_2    | ResidualBlock | 1.2 M  | [1, 768]      | [1, 768] \n",
      "3 | residual_3    | ResidualBlock | 1.2 M  | [1, 768]      | [1, 768] \n",
      "4 | residual_4    | ResidualBlock | 1.2 M  | [1, 768]      | [1, 768] \n",
      "5 | exhaust_score | Sequential    | 429 K  | [1, 768]      | [1, 1]   \n",
      "----------------------------------------------------------------------------\n",
      "5.2 M     Trainable params\n",
      "0         Non-trainable params\n",
      "5.2 M     Total params\n",
      "20.665    Total estimated model params size (MB)\n"
     ]
    },
    {
     "data": {
      "application/vnd.jupyter.widget-view+json": {
       "model_id": "ff59c5f1220d4e1c98d7a2b4ada9a0e8",
       "version_major": 2,
       "version_minor": 0
      },
      "text/plain": [
       "Sanity Checking: 0it [00:00, ?it/s]"
      ]
     },
     "metadata": {},
     "output_type": "display_data"
    },
    {
     "data": {
      "application/vnd.jupyter.widget-view+json": {
       "model_id": "80c43d90650a4406afe10db0dc4fd2bb",
       "version_major": 2,
       "version_minor": 0
      },
      "text/plain": [
       "Training: 0it [00:00, ?it/s]"
      ]
     },
     "metadata": {},
     "output_type": "display_data"
    },
    {
     "name": "stderr",
     "output_type": "stream",
     "text": [
      "Exception in thread Thread-92:\n",
      "Traceback (most recent call last):\n",
      "  File \"/home/volk/anaconda3/lib/python3.9/threading.py\", line 973, in _bootstrap_inner\n",
      "    self.run()\n",
      "  File \"/home/volk/.cache/pypoetry/virtualenvs/chessai-9CBJxCkL-py3.9/lib/python3.9/site-packages/tensorboard/summary/writer/event_file_writer.py\", line 233, in run\n",
      "    self._record_writer.write(data)\n",
      "  File \"/home/volk/.cache/pypoetry/virtualenvs/chessai-9CBJxCkL-py3.9/lib/python3.9/site-packages/tensorboard/summary/writer/record_writer.py\", line 40, in write\n",
      "    self._writer.write(header + header_crc + data + footer_crc)\n",
      "  File \"/home/volk/.cache/pypoetry/virtualenvs/chessai-9CBJxCkL-py3.9/lib/python3.9/site-packages/tensorboard/compat/tensorflow_stub/io/gfile.py\", line 766, in write\n",
      "    self.fs.append(self.filename, file_content, self.binary_mode)\n",
      "  File \"/home/volk/.cache/pypoetry/virtualenvs/chessai-9CBJxCkL-py3.9/lib/python3.9/site-packages/tensorboard/compat/tensorflow_stub/io/gfile.py\", line 160, in append\n",
      "    self._write(filename, file_content, \"ab\" if binary_mode else \"a\")\n",
      "  File \"/home/volk/.cache/pypoetry/virtualenvs/chessai-9CBJxCkL-py3.9/lib/python3.9/site-packages/tensorboard/compat/tensorflow_stub/io/gfile.py\", line 164, in _write\n",
      "    with io.open(filename, mode, encoding=encoding) as f:\n",
      "FileNotFoundError: [Errno 2] No such file or directory: b'./tb_logs/ChessNN/version_4/events.out.tfevents.1661611324.DESKTOP-JQO7CAG.270.3'\n"
     ]
    }
   ],
   "source": [
    "import multiprocessing\n",
    "\n",
    "\n",
    "hparams = {\"learning_rate\": 1e-3}\n",
    "\n",
    "model : ChessBoardEvalNN = ChessBoardEvalNN(hparams=hparams)\n",
    "\n",
    "# model = ChessBoardEvalNN.load_model(hparams)\n",
    "\n",
    "logger = TensorBoardLogger(\"./tb_logs\", name=\"ChessNN\", default_hp_metric=False, log_graph=True)\n",
    "\n",
    "trainer = pl.Trainer(\n",
    "    max_epochs=20,\n",
    "    accelerator=\"gpu\" if torch.cuda.is_available() else None,\n",
    "    logger = logger,\n",
    "    log_every_n_steps=1\n",
    ")\n",
    "\n",
    "train_dataloader = DataLoader(train_set, batch_size=1024, num_workers=multiprocessing.cpu_count(), shuffle=True)\n",
    "val_dataloader = DataLoader(val_set, batch_size=1024, num_workers=multiprocessing.cpu_count())\n",
    "\n",
    "trainer.fit(model, train_dataloader, val_dataloader)"
   ]
  },
  {
   "cell_type": "code",
   "execution_count": 5,
   "metadata": {},
   "outputs": [
    {
     "name": "stdout",
     "output_type": "stream",
     "text": [
      "truth eval: 0.617796003818512\n",
      "predicted eval: 0.4998486042022705\n",
      "truth move: 1380\n",
      "predicted move: tensor([4095,  261, 1487, 2325, 1357], device='cuda:0') | prob: tensor([9.8092e-01, 1.8391e-02, 5.0878e-05, 4.6642e-05, 2.9457e-05],\n",
      "       device='cuda:0', grad_fn=<IndexBackward0>)\n",
      "truth eval: 0.6103960275650024\n",
      "predicted eval: 0.49834194779396057\n",
      "truth move: 1611\n",
      "predicted move: tensor([4095,  197, 4094, 3518,  966], device='cuda:0') | prob: tensor([9.9997e-01, 5.4104e-08, 3.9486e-08, 2.9684e-08, 2.4361e-08],\n",
      "       device='cuda:0', grad_fn=<IndexBackward0>)\n",
      "truth eval: 0.6749959588050842\n",
      "predicted eval: 0.49888426065444946\n",
      "truth move: 3837\n",
      "predicted move: tensor([4095,  197, 4094, 3518, 1869], device='cuda:0') | prob: tensor([9.9994e-01, 2.0211e-07, 1.4285e-07, 1.1251e-07, 9.8393e-08],\n",
      "       device='cuda:0', grad_fn=<IndexBackward0>)\n",
      "truth eval: 0.666595995426178\n",
      "predicted eval: 0.4934867322444916\n",
      "truth move: 131\n",
      "predicted move: tensor([4095,  197, 4094, 3518,  838], device='cuda:0') | prob: tensor([9.9997e-01, 6.4179e-08, 4.5862e-08, 3.2342e-08, 2.7859e-08],\n",
      "       device='cuda:0', grad_fn=<IndexBackward0>)\n",
      "truth eval: 0.6977959275245667\n",
      "predicted eval: 0.4975665509700775\n",
      "truth move: 3063\n",
      "predicted move: tensor([4095,  197, 4094, 3518,  966], device='cuda:0') | prob: tensor([9.9996e-01, 8.1758e-08, 6.1826e-08, 4.5839e-08, 3.7294e-08],\n",
      "       device='cuda:0', grad_fn=<IndexBackward0>)\n",
      "truth eval: 0.6913959383964539\n",
      "predicted eval: 0.49407580494880676\n",
      "truth move: 1177\n",
      "predicted move: tensor([4095,  197, 4094, 3518,  838], device='cuda:0') | prob: tensor([9.9997e-01, 6.5898e-08, 4.6694e-08, 3.1012e-08, 2.9012e-08],\n",
      "       device='cuda:0', grad_fn=<IndexBackward0>)\n",
      "truth eval: 0.8731958270072937\n",
      "predicted eval: 0.5033355951309204\n",
      "truth move: 2453\n",
      "predicted move: tensor([4095,  197, 4094, 3518, 1869], device='cuda:0') | prob: tensor([9.9993e-01, 1.7933e-07, 1.3113e-07, 1.2346e-07, 8.9505e-08],\n",
      "       device='cuda:0', grad_fn=<IndexBackward0>)\n",
      "truth eval: 0.8129958510398865\n",
      "predicted eval: 0.5004056692123413\n",
      "truth move: 1943\n",
      "predicted move: tensor([4095,  197, 4094, 3518, 1869], device='cuda:0') | prob: tensor([9.9994e-01, 1.7478e-07, 1.1321e-07, 9.6087e-08, 8.2185e-08],\n",
      "       device='cuda:0', grad_fn=<IndexBackward0>)\n",
      "truth eval: 0.4973960816860199\n",
      "predicted eval: 0.48645347356796265\n",
      "truth move: 1162\n",
      "predicted move: tensor([4028, 2745,  886,   14, 1986], device='cuda:0') | prob: tensor([1.0000e+00, 4.7204e-11, 2.1566e-11, 1.9681e-11, 1.9335e-11],\n",
      "       device='cuda:0', grad_fn=<IndexBackward0>)\n",
      "truth eval: 0.4949961006641388\n",
      "predicted eval: 0.48885783553123474\n",
      "truth move: 2745\n",
      "predicted move: tensor([2745, 4028, 1350, 2608, 2325], device='cuda:0') | prob: tensor([1.0000e+00, 2.0974e-07, 3.1004e-08, 2.7289e-08, 9.7210e-10],\n",
      "       device='cuda:0', grad_fn=<IndexBackward0>)\n",
      "truth eval: 0.489996075630188\n",
      "predicted eval: 0.487312376499176\n",
      "truth move: 388\n",
      "predicted move: tensor([4028, 1825,  886,   14,  493], device='cuda:0') | prob: tensor([1.0000e+00, 1.6419e-11, 1.6417e-11, 1.6286e-11, 1.6227e-11],\n",
      "       device='cuda:0', grad_fn=<IndexBackward0>)\n",
      "truth eval: 0.4885960817337036\n",
      "predicted eval: 0.4927707612514496\n",
      "truth move: 3768\n",
      "predicted move: tensor([4028, 2608, 2745, 1487, 2325], device='cuda:0') | prob: tensor([9.9985e-01, 6.4299e-05, 6.0318e-05, 2.1796e-07, 2.0552e-07],\n",
      "       device='cuda:0', grad_fn=<IndexBackward0>)\n",
      "truth eval: 0.48559609055519104\n",
      "predicted eval: 0.47940051555633545\n",
      "truth move: 1282\n",
      "predicted move: tensor([ 261, 2745, 2325, 1487, 3901], device='cuda:0') | prob: tensor([1.0000e+00, 5.4934e-08, 3.9149e-08, 1.8324e-08, 1.5629e-08],\n",
      "       device='cuda:0', grad_fn=<IndexBackward0>)\n",
      "truth eval: 0.48499608039855957\n",
      "predicted eval: 0.49141642451286316\n",
      "truth move: 3389\n",
      "predicted move: tensor([4028, 2608, 2745, 1487, 2161], device='cuda:0') | prob: tensor([9.9977e-01, 1.7813e-04, 2.2699e-05, 2.0958e-07, 1.7306e-07],\n",
      "       device='cuda:0', grad_fn=<IndexBackward0>)\n",
      "truth eval: 0.4851960837841034\n",
      "predicted eval: 0.4843602478504181\n",
      "truth move: 1032\n",
      "predicted move: tensor([ 261, 2745, 2325, 1487, 3901], device='cuda:0') | prob: tensor([9.9999e-01, 3.8023e-06, 1.1071e-06, 4.9220e-07, 2.2659e-07],\n",
      "       device='cuda:0', grad_fn=<IndexBackward0>)\n",
      "truth eval: 0.4829961061477661\n",
      "predicted eval: 0.4979267716407776\n",
      "truth move: 2803\n",
      "predicted move: tensor([4028,  493, 1825,  347, 3480], device='cuda:0') | prob: tensor([1.0000e+00, 5.4915e-13, 5.1782e-13, 5.0268e-13, 4.9628e-13],\n",
      "       device='cuda:0', grad_fn=<IndexBackward0>)\n",
      "truth eval: 0.48399609327316284\n",
      "predicted eval: 0.48519936203956604\n",
      "truth move: 705\n",
      "predicted move: tensor([ 261, 2745, 2325, 1487, 1350], device='cuda:0') | prob: tensor([1.0000e+00, 1.8674e-06, 1.7608e-07, 7.7990e-08, 6.9854e-08],\n",
      "       device='cuda:0', grad_fn=<IndexBackward0>)\n",
      "truth eval: 0.4859960973262787\n",
      "predicted eval: 0.49672210216522217\n",
      "truth move: 2608\n",
      "predicted move: tensor([4028,  493,  347, 1825, 2158], device='cuda:0') | prob: tensor([1.0000e+00, 4.3751e-13, 3.7820e-13, 3.7102e-13, 3.6530e-13],\n",
      "       device='cuda:0', grad_fn=<IndexBackward0>)\n",
      "truth eval: 0.4813961088657379\n",
      "predicted eval: 0.48399102687835693\n",
      "truth move: 128\n",
      "predicted move: tensor([ 261, 2325, 2745, 1487, 3901], device='cuda:0') | prob: tensor([1.0000e+00, 3.0614e-08, 1.7007e-08, 1.0731e-08, 9.1808e-09],\n",
      "       device='cuda:0', grad_fn=<IndexBackward0>)\n",
      "truth eval: 0.4877960979938507\n",
      "predicted eval: 0.49894797801971436\n",
      "truth move: 4028\n",
      "predicted move: tensor([4028,  493, 3480,  347, 1825], device='cuda:0') | prob: tensor([1.0000e+00, 2.2328e-13, 2.0866e-13, 2.0821e-13, 2.0381e-13],\n",
      "       device='cuda:0', grad_fn=<IndexBackward0>)\n"
     ]
    }
   ],
   "source": [
    "\n",
    "for i in range(2000, 2020):\n",
    "    board, target_id, evaluation = dataset[i]\n",
    "    board = board.to(model.device)\n",
    "    board = board[None, :]\n",
    "    model.eval()\n",
    "    moves, score = model.forward(board)\n",
    "    print(f\"truth eval: {evaluation}\")\n",
    "    print(f\"predicted eval: {score}\")\n",
    "    print(f\"truth move: {target_id.argmax()}\")\n",
    "    print(f\"predicted move: {torch.topk(moves.flatten(), 5).indices} | prob: {moves[torch.topk(moves.flatten(), 5).indices]}\")\n",
    "\n",
    "model.save_model(\"models/model1.model\")"
   ]
  }
 ],
 "metadata": {
  "kernelspec": {
   "display_name": "Python 3.9.12 ('chessai-9CBJxCkL-py3.9')",
   "language": "python",
   "name": "python3"
  },
  "language_info": {
   "codemirror_mode": {
    "name": "ipython",
    "version": 3
   },
   "file_extension": ".py",
   "mimetype": "text/x-python",
   "name": "python",
   "nbconvert_exporter": "python",
   "pygments_lexer": "ipython3",
   "version": "3.9.12"
  },
  "orig_nbformat": 4,
  "vscode": {
   "interpreter": {
    "hash": "8b4b484dc4462168a6fe1fe48525d5c69827656b86655a4bf6049a86e80fa9a6"
   }
  }
 },
 "nbformat": 4,
 "nbformat_minor": 2
}
